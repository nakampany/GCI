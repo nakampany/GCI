{
  "nbformat": 4,
  "nbformat_minor": 0,
  "metadata": {
    "colab": {
      "provenance": [],
      "collapsed_sections": [],
      "include_colab_link": true
    },
    "kernelspec": {
      "display_name": "Python 3",
      "name": "python3"
    }
  },
  "cells": [
    {
      "cell_type": "markdown",
      "metadata": {
        "id": "view-in-github",
        "colab_type": "text"
      },
      "source": [
        "<a href=\"https://colab.research.google.com/github/nakampany/GCI/blob/main/week4.ipynb\" target=\"_parent\"><img src=\"https://colab.research.google.com/assets/colab-badge.svg\" alt=\"Open In Colab\"/></a>"
      ]
    },
    {
      "cell_type": "markdown",
      "metadata": {
        "id": "93cl9JWr_5nm"
      },
      "source": [
        "## Homework3\n",
        "\n",
        "下記の「#common」で始まるセルの中で指定されたリンク先にある購買データをベースに以下の処理を実行し、問いに答えて課題を提出してください。（データの前処理は、以下の記載の通りに行ってください。）\n",
        "    \n",
        "処理内容\n",
        "\n",
        "1. `#common`のセルで事前に前処理されたデータ`target_online_retail_data_tb`を用います。\n",
        "2. 購買者（`CustomerID`）の各合計購買金額（`TotalPrice`の合計）を算出し、さらに合計購買金額をベースに降順に並び替えをします。  \n",
        "3. 合計購買金額の降順に並んだ購買者を$n$等分（$n$はデータ数を越えず、分位数に同一の値が存在しない自然数。購買者数が$n$で割り切れるとは限らず、この場合の処理は`Pandas.qcut`の処理に準じます。）にグループ分けします。  その際、合計購買金額が大きいグループから順に「グループ1」「グループ2」$\\cdots$「グループn」とします。\n",
        "4. それぞれのグループの金額合計値を算出してください（このアプローチをデシル分析といいます）。\n",
        "5. それぞれのグループが売上の何割を占めるかを求めてください。その際、「グループ1」〜「グループn」の順に並べ、`Pandas.Series`形式で回答してください。\n",
        "\n",
        "\n",
        "(なお、マーケティング戦略では、このように顧客を分けることをセグメンテーションといい、上位2割に絞ってアプローチを仕掛けることをターゲティングといいます。それぞれの戦略によりますが、優良顧客に的を絞った方が投資対効果が高いことが多いため、このようなアプローチを取ることがあります。これに関連して、上位2割の顧客が売上全体の8割を占めることを「パレートの法則」と言います。)\n",
        "\n",
        "提出するときは、以下の点に注意してください。  \n",
        ">- 以下の関数`homework`の`!!WRITE ME!!`に処理を書いてください。(**「`!!WRITE ME!!`」は消して、記入してください。**)\n",
        ">- 実際の提出は記述された`homework`関数全てになり、**提出はOmnicampus内の宿題の欄から今週の課題を選択後、提出内容に関数を貼り付けてから[Pythonコード提出]を押してください。**\n",
        ">- 前処理は以下のコードを使ってください。  \n",
        ">- 返り値が`Pandas.Series`形式になるようにしてください。  \n",
        ">- 解答は、`my_result=pd.Series([0.6,0.2,0.1,0.025,0.025,0.022,0.021,0.02,0.01,0]) `のような形になります。(売上割合はグループ順にして、合計は1になるようにします。)"
      ]
    },
    {
      "cell_type": "code",
      "metadata": {
        "id": "thHL7HyXBXvS"
      },
      "source": [
        "# common\n",
        "import pandas as pd\n",
        "import numpy as np\n",
        "\n",
        "# init part(データの読み込みと前処理)\n",
        "file_url = \"http://archive.ics.uci.edu/ml/machine-learning-databases/00352/Online%20Retail.xlsx\"\n",
        "online_retail_data = pd.ExcelFile(file_url)\n",
        "online_retail_data_table = online_retail_data.parse('Online Retail')\n",
        "\n",
        "# 採点の都合上、文字列型に変換\n",
        "online_retail_data_table['cancel_flg'] = online_retail_data_table.InvoiceNo.map(lambda x:str(x)[0])\n",
        "\n",
        "# InvoiceNoの先頭が5であるものとIDがNullでないものが対象\n",
        "target_online_retail_data_tb = online_retail_data_table[(online_retail_data_table.cancel_flg == '5') \n",
        "                                                        & (online_retail_data_table.CustomerID.notnull())]\n",
        "\n",
        "target_online_retail_data_tb = target_online_retail_data_tb.assign(TotalPrice=target_online_retail_data_tb.Quantity * target_online_retail_data_tb.UnitPrice)"
      ],
      "execution_count": 48,
      "outputs": []
    },
    {
      "cell_type": "code",
      "source": [
        "# commonのセルで事前に前処理されたデータtarget_online_retail_data_tbを用います。\n",
        "# 購買者（CustomerID）の各合計購買金額（TotalPriceの合計）を算出し、さらに合計購買金額をベースに降順に並び替えをします。\n",
        "# 合計購買金額の降順に並んだ購買者を 𝑛 等分（ 𝑛 はデータ数を越えず、分位数に同一の値が存在しない自然数。購買者数が 𝑛 で割り切れるとは限らず、\n",
        "# この場合の処理はPandas.qcutの処理に準じます。）にグループ分けします。 その際、合計購買金額が大きいグループから順に「グループ1」「グループ2」 ⋯ 「グループn」とします。\n",
        "# それぞれのグループの金額合計値を算出してください（このアプローチをデシル分析といいます）。\n",
        "# それぞれのグループが売上の何割を占めるかを求めてください。その際、「グループ1」〜「グループn」の順に並べ、Pandas.Series形式で回答してください。"
      ],
      "metadata": {
        "id": "6sAzhssGWqlk"
      },
      "execution_count": null,
      "outputs": []
    },
    {
      "cell_type": "code",
      "source": [
        "target_online_retail_data_tb"
      ],
      "metadata": {
        "colab": {
          "base_uri": "https://localhost:8080/",
          "height": 424
        },
        "id": "9SXTnNHqWqaS",
        "outputId": "b1484ab0-5d6f-4ce6-d26d-82d331de8ebb"
      },
      "execution_count": 49,
      "outputs": [
        {
          "output_type": "execute_result",
          "data": {
            "text/plain": [
              "       InvoiceNo StockCode                          Description  Quantity  \\\n",
              "0         536365    85123A   WHITE HANGING HEART T-LIGHT HOLDER         6   \n",
              "1         536365     71053                  WHITE METAL LANTERN         6   \n",
              "2         536365    84406B       CREAM CUPID HEARTS COAT HANGER         8   \n",
              "3         536365    84029G  KNITTED UNION FLAG HOT WATER BOTTLE         6   \n",
              "4         536365    84029E       RED WOOLLY HOTTIE WHITE HEART.         6   \n",
              "...          ...       ...                                  ...       ...   \n",
              "541904    581587     22613          PACK OF 20 SPACEBOY NAPKINS        12   \n",
              "541905    581587     22899         CHILDREN'S APRON DOLLY GIRL          6   \n",
              "541906    581587     23254        CHILDRENS CUTLERY DOLLY GIRL          4   \n",
              "541907    581587     23255      CHILDRENS CUTLERY CIRCUS PARADE         4   \n",
              "541908    581587     22138        BAKING SET 9 PIECE RETROSPOT          3   \n",
              "\n",
              "               InvoiceDate  UnitPrice  CustomerID         Country cancel_flg  \\\n",
              "0      2010-12-01 08:26:00       2.55     17850.0  United Kingdom          5   \n",
              "1      2010-12-01 08:26:00       3.39     17850.0  United Kingdom          5   \n",
              "2      2010-12-01 08:26:00       2.75     17850.0  United Kingdom          5   \n",
              "3      2010-12-01 08:26:00       3.39     17850.0  United Kingdom          5   \n",
              "4      2010-12-01 08:26:00       3.39     17850.0  United Kingdom          5   \n",
              "...                    ...        ...         ...             ...        ...   \n",
              "541904 2011-12-09 12:50:00       0.85     12680.0          France          5   \n",
              "541905 2011-12-09 12:50:00       2.10     12680.0          France          5   \n",
              "541906 2011-12-09 12:50:00       4.15     12680.0          France          5   \n",
              "541907 2011-12-09 12:50:00       4.15     12680.0          France          5   \n",
              "541908 2011-12-09 12:50:00       4.95     12680.0          France          5   \n",
              "\n",
              "        TotalPrice  \n",
              "0            15.30  \n",
              "1            20.34  \n",
              "2            22.00  \n",
              "3            20.34  \n",
              "4            20.34  \n",
              "...            ...  \n",
              "541904       10.20  \n",
              "541905       12.60  \n",
              "541906       16.60  \n",
              "541907       16.60  \n",
              "541908       14.85  \n",
              "\n",
              "[397924 rows x 10 columns]"
            ],
            "text/html": [
              "\n",
              "  <div id=\"df-7991744c-85e0-4ad7-a69e-0a6f9d8f53e3\">\n",
              "    <div class=\"colab-df-container\">\n",
              "      <div>\n",
              "<style scoped>\n",
              "    .dataframe tbody tr th:only-of-type {\n",
              "        vertical-align: middle;\n",
              "    }\n",
              "\n",
              "    .dataframe tbody tr th {\n",
              "        vertical-align: top;\n",
              "    }\n",
              "\n",
              "    .dataframe thead th {\n",
              "        text-align: right;\n",
              "    }\n",
              "</style>\n",
              "<table border=\"1\" class=\"dataframe\">\n",
              "  <thead>\n",
              "    <tr style=\"text-align: right;\">\n",
              "      <th></th>\n",
              "      <th>InvoiceNo</th>\n",
              "      <th>StockCode</th>\n",
              "      <th>Description</th>\n",
              "      <th>Quantity</th>\n",
              "      <th>InvoiceDate</th>\n",
              "      <th>UnitPrice</th>\n",
              "      <th>CustomerID</th>\n",
              "      <th>Country</th>\n",
              "      <th>cancel_flg</th>\n",
              "      <th>TotalPrice</th>\n",
              "    </tr>\n",
              "  </thead>\n",
              "  <tbody>\n",
              "    <tr>\n",
              "      <th>0</th>\n",
              "      <td>536365</td>\n",
              "      <td>85123A</td>\n",
              "      <td>WHITE HANGING HEART T-LIGHT HOLDER</td>\n",
              "      <td>6</td>\n",
              "      <td>2010-12-01 08:26:00</td>\n",
              "      <td>2.55</td>\n",
              "      <td>17850.0</td>\n",
              "      <td>United Kingdom</td>\n",
              "      <td>5</td>\n",
              "      <td>15.30</td>\n",
              "    </tr>\n",
              "    <tr>\n",
              "      <th>1</th>\n",
              "      <td>536365</td>\n",
              "      <td>71053</td>\n",
              "      <td>WHITE METAL LANTERN</td>\n",
              "      <td>6</td>\n",
              "      <td>2010-12-01 08:26:00</td>\n",
              "      <td>3.39</td>\n",
              "      <td>17850.0</td>\n",
              "      <td>United Kingdom</td>\n",
              "      <td>5</td>\n",
              "      <td>20.34</td>\n",
              "    </tr>\n",
              "    <tr>\n",
              "      <th>2</th>\n",
              "      <td>536365</td>\n",
              "      <td>84406B</td>\n",
              "      <td>CREAM CUPID HEARTS COAT HANGER</td>\n",
              "      <td>8</td>\n",
              "      <td>2010-12-01 08:26:00</td>\n",
              "      <td>2.75</td>\n",
              "      <td>17850.0</td>\n",
              "      <td>United Kingdom</td>\n",
              "      <td>5</td>\n",
              "      <td>22.00</td>\n",
              "    </tr>\n",
              "    <tr>\n",
              "      <th>3</th>\n",
              "      <td>536365</td>\n",
              "      <td>84029G</td>\n",
              "      <td>KNITTED UNION FLAG HOT WATER BOTTLE</td>\n",
              "      <td>6</td>\n",
              "      <td>2010-12-01 08:26:00</td>\n",
              "      <td>3.39</td>\n",
              "      <td>17850.0</td>\n",
              "      <td>United Kingdom</td>\n",
              "      <td>5</td>\n",
              "      <td>20.34</td>\n",
              "    </tr>\n",
              "    <tr>\n",
              "      <th>4</th>\n",
              "      <td>536365</td>\n",
              "      <td>84029E</td>\n",
              "      <td>RED WOOLLY HOTTIE WHITE HEART.</td>\n",
              "      <td>6</td>\n",
              "      <td>2010-12-01 08:26:00</td>\n",
              "      <td>3.39</td>\n",
              "      <td>17850.0</td>\n",
              "      <td>United Kingdom</td>\n",
              "      <td>5</td>\n",
              "      <td>20.34</td>\n",
              "    </tr>\n",
              "    <tr>\n",
              "      <th>...</th>\n",
              "      <td>...</td>\n",
              "      <td>...</td>\n",
              "      <td>...</td>\n",
              "      <td>...</td>\n",
              "      <td>...</td>\n",
              "      <td>...</td>\n",
              "      <td>...</td>\n",
              "      <td>...</td>\n",
              "      <td>...</td>\n",
              "      <td>...</td>\n",
              "    </tr>\n",
              "    <tr>\n",
              "      <th>541904</th>\n",
              "      <td>581587</td>\n",
              "      <td>22613</td>\n",
              "      <td>PACK OF 20 SPACEBOY NAPKINS</td>\n",
              "      <td>12</td>\n",
              "      <td>2011-12-09 12:50:00</td>\n",
              "      <td>0.85</td>\n",
              "      <td>12680.0</td>\n",
              "      <td>France</td>\n",
              "      <td>5</td>\n",
              "      <td>10.20</td>\n",
              "    </tr>\n",
              "    <tr>\n",
              "      <th>541905</th>\n",
              "      <td>581587</td>\n",
              "      <td>22899</td>\n",
              "      <td>CHILDREN'S APRON DOLLY GIRL</td>\n",
              "      <td>6</td>\n",
              "      <td>2011-12-09 12:50:00</td>\n",
              "      <td>2.10</td>\n",
              "      <td>12680.0</td>\n",
              "      <td>France</td>\n",
              "      <td>5</td>\n",
              "      <td>12.60</td>\n",
              "    </tr>\n",
              "    <tr>\n",
              "      <th>541906</th>\n",
              "      <td>581587</td>\n",
              "      <td>23254</td>\n",
              "      <td>CHILDRENS CUTLERY DOLLY GIRL</td>\n",
              "      <td>4</td>\n",
              "      <td>2011-12-09 12:50:00</td>\n",
              "      <td>4.15</td>\n",
              "      <td>12680.0</td>\n",
              "      <td>France</td>\n",
              "      <td>5</td>\n",
              "      <td>16.60</td>\n",
              "    </tr>\n",
              "    <tr>\n",
              "      <th>541907</th>\n",
              "      <td>581587</td>\n",
              "      <td>23255</td>\n",
              "      <td>CHILDRENS CUTLERY CIRCUS PARADE</td>\n",
              "      <td>4</td>\n",
              "      <td>2011-12-09 12:50:00</td>\n",
              "      <td>4.15</td>\n",
              "      <td>12680.0</td>\n",
              "      <td>France</td>\n",
              "      <td>5</td>\n",
              "      <td>16.60</td>\n",
              "    </tr>\n",
              "    <tr>\n",
              "      <th>541908</th>\n",
              "      <td>581587</td>\n",
              "      <td>22138</td>\n",
              "      <td>BAKING SET 9 PIECE RETROSPOT</td>\n",
              "      <td>3</td>\n",
              "      <td>2011-12-09 12:50:00</td>\n",
              "      <td>4.95</td>\n",
              "      <td>12680.0</td>\n",
              "      <td>France</td>\n",
              "      <td>5</td>\n",
              "      <td>14.85</td>\n",
              "    </tr>\n",
              "  </tbody>\n",
              "</table>\n",
              "<p>397924 rows × 10 columns</p>\n",
              "</div>\n",
              "      <button class=\"colab-df-convert\" onclick=\"convertToInteractive('df-7991744c-85e0-4ad7-a69e-0a6f9d8f53e3')\"\n",
              "              title=\"Convert this dataframe to an interactive table.\"\n",
              "              style=\"display:none;\">\n",
              "        \n",
              "  <svg xmlns=\"http://www.w3.org/2000/svg\" height=\"24px\"viewBox=\"0 0 24 24\"\n",
              "       width=\"24px\">\n",
              "    <path d=\"M0 0h24v24H0V0z\" fill=\"none\"/>\n",
              "    <path d=\"M18.56 5.44l.94 2.06.94-2.06 2.06-.94-2.06-.94-.94-2.06-.94 2.06-2.06.94zm-11 1L8.5 8.5l.94-2.06 2.06-.94-2.06-.94L8.5 2.5l-.94 2.06-2.06.94zm10 10l.94 2.06.94-2.06 2.06-.94-2.06-.94-.94-2.06-.94 2.06-2.06.94z\"/><path d=\"M17.41 7.96l-1.37-1.37c-.4-.4-.92-.59-1.43-.59-.52 0-1.04.2-1.43.59L10.3 9.45l-7.72 7.72c-.78.78-.78 2.05 0 2.83L4 21.41c.39.39.9.59 1.41.59.51 0 1.02-.2 1.41-.59l7.78-7.78 2.81-2.81c.8-.78.8-2.07 0-2.86zM5.41 20L4 18.59l7.72-7.72 1.47 1.35L5.41 20z\"/>\n",
              "  </svg>\n",
              "      </button>\n",
              "      \n",
              "  <style>\n",
              "    .colab-df-container {\n",
              "      display:flex;\n",
              "      flex-wrap:wrap;\n",
              "      gap: 12px;\n",
              "    }\n",
              "\n",
              "    .colab-df-convert {\n",
              "      background-color: #E8F0FE;\n",
              "      border: none;\n",
              "      border-radius: 50%;\n",
              "      cursor: pointer;\n",
              "      display: none;\n",
              "      fill: #1967D2;\n",
              "      height: 32px;\n",
              "      padding: 0 0 0 0;\n",
              "      width: 32px;\n",
              "    }\n",
              "\n",
              "    .colab-df-convert:hover {\n",
              "      background-color: #E2EBFA;\n",
              "      box-shadow: 0px 1px 2px rgba(60, 64, 67, 0.3), 0px 1px 3px 1px rgba(60, 64, 67, 0.15);\n",
              "      fill: #174EA6;\n",
              "    }\n",
              "\n",
              "    [theme=dark] .colab-df-convert {\n",
              "      background-color: #3B4455;\n",
              "      fill: #D2E3FC;\n",
              "    }\n",
              "\n",
              "    [theme=dark] .colab-df-convert:hover {\n",
              "      background-color: #434B5C;\n",
              "      box-shadow: 0px 1px 3px 1px rgba(0, 0, 0, 0.15);\n",
              "      filter: drop-shadow(0px 1px 2px rgba(0, 0, 0, 0.3));\n",
              "      fill: #FFFFFF;\n",
              "    }\n",
              "  </style>\n",
              "\n",
              "      <script>\n",
              "        const buttonEl =\n",
              "          document.querySelector('#df-7991744c-85e0-4ad7-a69e-0a6f9d8f53e3 button.colab-df-convert');\n",
              "        buttonEl.style.display =\n",
              "          google.colab.kernel.accessAllowed ? 'block' : 'none';\n",
              "\n",
              "        async function convertToInteractive(key) {\n",
              "          const element = document.querySelector('#df-7991744c-85e0-4ad7-a69e-0a6f9d8f53e3');\n",
              "          const dataTable =\n",
              "            await google.colab.kernel.invokeFunction('convertToInteractive',\n",
              "                                                     [key], {});\n",
              "          if (!dataTable) return;\n",
              "\n",
              "          const docLinkHtml = 'Like what you see? Visit the ' +\n",
              "            '<a target=\"_blank\" href=https://colab.research.google.com/notebooks/data_table.ipynb>data table notebook</a>'\n",
              "            + ' to learn more about interactive tables.';\n",
              "          element.innerHTML = '';\n",
              "          dataTable['output_type'] = 'display_data';\n",
              "          await google.colab.output.renderOutput(dataTable, element);\n",
              "          const docLink = document.createElement('div');\n",
              "          docLink.innerHTML = docLinkHtml;\n",
              "          element.appendChild(docLink);\n",
              "        }\n",
              "      </script>\n",
              "    </div>\n",
              "  </div>\n",
              "  "
            ]
          },
          "metadata": {},
          "execution_count": 49
        }
      ]
    },
    {
      "cell_type": "code",
      "source": [
        "# 購買者（CustomerID）の各合計購買金額（TotalPriceの合計）を算出し、さらに合計購買金額をベースに降順に並び替えをします。\n",
        "\n",
        "target_online_retail_data_tb['TotalPrice'].groupby(target_online_retail_data_tb['CustomerID']).sum()\n"
      ],
      "metadata": {
        "colab": {
          "base_uri": "https://localhost:8080/"
        },
        "id": "FMDbP3otX4Ri",
        "outputId": "5e7a4107-9ac3-42e7-a093-8cd169dbc895"
      },
      "execution_count": 50,
      "outputs": [
        {
          "output_type": "execute_result",
          "data": {
            "text/plain": [
              "CustomerID\n",
              "12346.0    77183.60\n",
              "12347.0     4310.00\n",
              "12348.0     1797.24\n",
              "12349.0     1757.55\n",
              "12350.0      334.40\n",
              "             ...   \n",
              "18280.0      180.60\n",
              "18281.0       80.82\n",
              "18282.0      178.05\n",
              "18283.0     2094.88\n",
              "18287.0     1837.28\n",
              "Name: TotalPrice, Length: 4339, dtype: float64"
            ]
          },
          "metadata": {},
          "execution_count": 50
        }
      ]
    },
    {
      "cell_type": "code",
      "source": [
        "a = target_online_retail_data_tb['TotalPrice'].groupby(target_online_retail_data_tb['CustomerID']).sum().sort_values(ascending=False)\n",
        "print(a)"
      ],
      "metadata": {
        "colab": {
          "base_uri": "https://localhost:8080/"
        },
        "id": "na4wxyfqZcZD",
        "outputId": "25a72c94-2898-4805-d038-86844e26417b"
      },
      "execution_count": 51,
      "outputs": [
        {
          "output_type": "stream",
          "name": "stdout",
          "text": [
            "CustomerID\n",
            "14646.0    280206.02\n",
            "18102.0    259657.30\n",
            "17450.0    194550.79\n",
            "16446.0    168472.50\n",
            "14911.0    143825.06\n",
            "             ...    \n",
            "17956.0        12.75\n",
            "16454.0         6.90\n",
            "14792.0         6.20\n",
            "16738.0         3.75\n",
            "13256.0         0.00\n",
            "Name: TotalPrice, Length: 4339, dtype: float64\n"
          ]
        }
      ]
    },
    {
      "cell_type": "code",
      "source": [
        "type(a)"
      ],
      "metadata": {
        "colab": {
          "base_uri": "https://localhost:8080/"
        },
        "id": "sUAu6REegLT0",
        "outputId": "d63a0856-47cf-46cf-a1b8-d6b3ca5b79f9"
      },
      "execution_count": 52,
      "outputs": [
        {
          "output_type": "execute_result",
          "data": {
            "text/plain": [
              "pandas.core.series.Series"
            ]
          },
          "metadata": {},
          "execution_count": 52
        }
      ]
    },
    {
      "cell_type": "code",
      "source": [
        "# 合計購買金額の降順に並んだ購買者を 𝑛 等分（ 𝑛 はデータ数を越えず、分位数に同一の値が存在しない自然数。購買者数が 𝑛 で割り切れるとは限らず、\n",
        "# この場合の処理はPandas.qcutの処理に準じます。）にグループ分けします。 その際、合計購買金額が大きいグループから順に「グループ1」「グループ2」 ⋯ 「グループn」とします。\n",
        "\n",
        "df = pd.qcut(a, 4)\n",
        "df"
      ],
      "metadata": {
        "colab": {
          "base_uri": "https://localhost:8080/"
        },
        "id": "34xpA9-Mdjh6",
        "outputId": "ac672660-f628-4b0a-b0c5-f847356a041d"
      },
      "execution_count": 53,
      "outputs": [
        {
          "output_type": "execute_result",
          "data": {
            "text/plain": [
              "CustomerID\n",
              "14646.0    (1661.64, 280206.02]\n",
              "18102.0    (1661.64, 280206.02]\n",
              "17450.0    (1661.64, 280206.02]\n",
              "16446.0    (1661.64, 280206.02]\n",
              "14911.0    (1661.64, 280206.02]\n",
              "                   ...         \n",
              "17956.0       (-0.001, 307.245]\n",
              "16454.0       (-0.001, 307.245]\n",
              "14792.0       (-0.001, 307.245]\n",
              "16738.0       (-0.001, 307.245]\n",
              "13256.0       (-0.001, 307.245]\n",
              "Name: TotalPrice, Length: 4339, dtype: category\n",
              "Categories (4, interval[float64, right]): [(-0.001, 307.245] < (307.245, 674.45] < (674.45, 1661.64] <\n",
              "                                           (1661.64, 280206.02]]"
            ]
          },
          "metadata": {},
          "execution_count": 53
        }
      ]
    },
    {
      "cell_type": "code",
      "source": [
        "# それぞれのグループの金額合計値を算出してください（このアプローチをデシル分析といいます）。\n",
        "b = a.groupby(df).sum()"
      ],
      "metadata": {
        "id": "QXjehivqgXwo"
      },
      "execution_count": 57,
      "outputs": []
    },
    {
      "cell_type": "code",
      "source": [
        "# それぞれのグループが売上の何割を占めるかを求めてください。その際、「グループ1」〜「グループn」の順に並べ、Pandas.Series形式で回答してください。\n",
        "b.map(lambda x: (float (x) / target_online_retail_data_tb['TotalPrice'].sum()))"
      ],
      "metadata": {
        "colab": {
          "base_uri": "https://localhost:8080/"
        },
        "id": "a3vz-a9chpjK",
        "outputId": "e194e063-d8f3-47d8-b150-6e7c4b349432"
      },
      "execution_count": 58,
      "outputs": [
        {
          "output_type": "execute_result",
          "data": {
            "text/plain": [
              "TotalPrice\n",
              "(-0.001, 307.245]       0.021784\n",
              "(307.245, 674.45]       0.056538\n",
              "(674.45, 1661.64]       0.130383\n",
              "(1661.64, 280206.02]    0.791294\n",
              "Name: TotalPrice, dtype: float64"
            ]
          },
          "metadata": {},
          "execution_count": 58
        }
      ]
    },
    {
      "cell_type": "code",
      "source": [],
      "metadata": {
        "id": "XX4bLFTcBgQL"
      },
      "execution_count": null,
      "outputs": []
    },
    {
      "cell_type": "code",
      "metadata": {
        "id": "2LO2_UoXl3Ed"
      },
      "source": [
        "import pandas as pd\n",
        "import numpy as np\n",
        "\n",
        "# working place. everything \n",
        "def homework(target_online_retail_data_tb, n):\n",
        "  # 購買者（CustomerID）の各合計購買金額（TotalPriceの合計）を算出\n",
        "  df = target_online_retail_data_tb['TotalPrice'].groupby(target_online_retail_data_tb['CustomerID']).sum()\n",
        "\n",
        "  # さらに合計購買金額をベースに降順に並び替えをします。\n",
        "  df_sort = df.sort_values(ascending=False)\n",
        "\n",
        "  # 合計購買金額の降順に並んだ購買者を 𝑛 等分（ 𝑛 はデータ数を越えず、分位数に同一の値が存在しない自然数。購買者数が 𝑛 で割り切れるとは限らず、\n",
        "  # この場合の処理はPandas.qcutの処理に準じます。）にグループ分けします。 \n",
        "  df_qcut = pd.qcut(df_sort, n)\n",
        "\n",
        "  # その際、合計購買金額が大きいグループから順に「グループ1」「グループ2」 ⋯ 「グループn」とします。\n",
        "  df_sort_qcut_sum = df_sort.groupby(df_qcut).sum()\n",
        "\n",
        "  # それぞれのグループが売上の何割を占めるかを求めてください。その際、「グループ1」〜「グループn」の順に並べ、Pandas.Series形式で回答してください。\n",
        "  my_result = df_sort_qcut_sum.map(lambda x: (float (x) / target_online_retail_data_tb['TotalPrice'].sum()))\n",
        "\n",
        "  return my_result"
      ],
      "execution_count": 61,
      "outputs": []
    },
    {
      "cell_type": "code",
      "source": [
        "n = int(input())\n",
        "homework(target_online_retail_data_tb, n)"
      ],
      "metadata": {
        "colab": {
          "base_uri": "https://localhost:8080/"
        },
        "id": "2ewvVr8fFhiN",
        "outputId": "e6adcd7e-c1d4-40a3-c18b-63b1b3d9e6cd"
      },
      "execution_count": 62,
      "outputs": [
        {
          "name": "stdout",
          "output_type": "stream",
          "text": [
            "10\n"
          ]
        },
        {
          "output_type": "execute_result",
          "data": {
            "text/plain": [
              "TotalPrice\n",
              "(-0.001, 156.566]        0.005156\n",
              "(156.566, 250.106]       0.009779\n",
              "(250.106, 351.658]       0.014826\n",
              "(351.658, 489.724]       0.020183\n",
              "(489.724, 674.45]        0.028380\n",
              "(674.45, 941.942]        0.038579\n",
              "(941.942, 1353.74]       0.055334\n",
              "(1353.74, 2057.914]      0.081592\n",
              "(2057.914, 3646.164]     0.132421\n",
              "(3646.164, 280206.02]    0.613751\n",
              "Name: TotalPrice, dtype: float64"
            ]
          },
          "metadata": {},
          "execution_count": 62
        }
      ]
    },
    {
      "cell_type": "markdown",
      "metadata": {
        "id": "bNYo138eBI9M"
      },
      "source": [
        "**謝辞**：以下のデータセットの利用に関して  \n",
        " https://archive.ics.uci.edu/ml/machine-learning-databases/00352/Online%20Retail.xlsx\n",
        "\n",
        "引用元：Dua, D. and Graff, C. (2019). UCI Machine Learning Repository [[http://archive.ics.uci.edu/ml](http://archive.ics.uci.edu/ml)]. Irvine, CA: University of California, School of Information and Computer Science.\n",
        " \n",
        "Daqing Chen, Sai Liang Sain, and Kun Guo, Data mining for the online retail industry: A case study of RFM model-based customer segmentation using data mining, Journal of Database Marketing and Customer Strategy Management, Vol. 19, No. 3, pp. 197â€“208, 2012 (Published online before print: 27 August 2012. doi: 10.1057/dbm.2012.17)."
      ]
    },
    {
      "cell_type": "code",
      "source": [],
      "metadata": {
        "id": "4Xj315jAFpxv"
      },
      "execution_count": null,
      "outputs": []
    }
  ]
}