{
  "cells": [
    {
      "cell_type": "markdown",
      "metadata": {
        "id": "view-in-github",
        "colab_type": "text"
      },
      "source": [
        "<a href=\"https://colab.research.google.com/github/nakampany/GCI/blob/main/week7.ipynb\" target=\"_parent\"><img src=\"https://colab.research.google.com/assets/colab-badge.svg\" alt=\"Open In Colab\"/></a>"
      ]
    },
    {
      "cell_type": "markdown",
      "metadata": {
        "id": "1cb2BshH6S5f"
      },
      "source": [
        "## Homework6\n",
        "時系列データを含むデータベースファイル (data.sqlite3) に含まれるデータについて、goods_genre_id ごとに price の平均値を求めてください。時系列データには goods_genre_id の情報は含まれていないので、複数のテーブルを組み合わせて処理する必要があります。  \n",
        "データの詳細は以下を参照してください。"
      ]
    },
    {
      "cell_type": "markdown",
      "metadata": {
        "id": "H8NZ-WCP6S5g"
      },
      "source": [
        "### データ一覧\n",
        "今回与えられるデータは data.sqlite3 という sqlite3 形式のデータです。\n",
        "以下の 2 つのテーブルが含まれています。\n",
        "* data ... 時系列データ\n",
        "* goods ... 商品に関する補足情報\n",
        "\n",
        "### カラム情報一覧\n",
        "データに含まれるカラムの情報は以下です。\n",
        "* index ... (店舗, 商品) の各組み合わせに対して割り振られるID\n",
        "* store_id ... 店舗ID\n",
        "* goods_id ... 商品ID\n",
        "* goods_genre_id ... 商品カテゴリID\n",
        "* units_sold_day ... 商品の一日の売り上げ個数\n",
        "* units_sold_month ... 商品のひと月の売り上げ個数\n",
        "* price ... 商品の現在の値段\n",
        "* yy-mm-dd ... 日付 (yy/mm/dd形式)\n",
        "* num_month ... 便宜上各月にわりふられた値 (平成25年1月=1, 平成25年2月=2,...,平成27年9月=33)\n",
        "* goods_name ... 商品名\n",
        "* store_name ... 店舗名\n",
        "* goods_genre_name ... 商品カテゴリ名\n",
        "\n",
        "### 注意事項\n",
        "- データ処理はSQLiteでの操作を推奨します。補足資料「SQLite_manual.pdf」「SQLite_manual.ipynb」を参照ください。\n",
        "- SQLiteのインストール/ダウンロードが上手くいかない場合、python上での操作も可能です。補足資料「csv_export_python.pdf」「csv_export_python.ipynb」を参照ください。\n",
        "- 一部の処理に時間がかかる場合があります。\n",
        "\n",
        "### 提出/採点\n",
        "回答は**Omnicampus**上で提出してください。提出するデータの形式は以下のような**csvファイル**となります。\n",
        " \n",
        "goods_genre_id|avg_price\n",
        "---|---\n",
        "1|25000\n",
        "3|26500\n",
        "4|25000\n",
        "…|…\n",
        "196|20000\n",
        "200|27000\n",
        "\n",
        "\n",
        "提出ファイルがこの形式に準じていなかった場合にはスコアが1000となるので、その際はファイル形式を確認しましょう。  "
      ]
    },
    {
      "cell_type": "code",
      "source": [
        "import sqlite3\n",
        "import csv"
      ],
      "metadata": {
        "id": "AuF4CxFwg_R0"
      },
      "execution_count": 1,
      "outputs": []
    },
    {
      "cell_type": "code",
      "source": [
        "from google.colab import drive\n",
        "drive.mount('/content/drive')"
      ],
      "metadata": {
        "colab": {
          "base_uri": "https://localhost:8080/"
        },
        "id": "7LDimvUgjpn-",
        "outputId": "90a853ac-d190-4fd5-fedb-230347303031"
      },
      "execution_count": 4,
      "outputs": [
        {
          "output_type": "stream",
          "name": "stdout",
          "text": [
            "Mounted at /content/drive\n"
          ]
        }
      ]
    },
    {
      "cell_type": "code",
      "source": [
        "dbpath = '/content/drive/MyDrive/【CCI2022宿題】/data.sqlite3'"
      ],
      "metadata": {
        "id": "mc7op4RchAwK"
      },
      "execution_count": 6,
      "outputs": []
    },
    {
      "cell_type": "code",
      "source": [
        "conn = sqlite3.connect(dbpath)"
      ],
      "metadata": {
        "id": "NWXXa6kKhCbM"
      },
      "execution_count": 7,
      "outputs": []
    },
    {
      "cell_type": "code",
      "source": [
        "cur = conn.cursor()"
      ],
      "metadata": {
        "id": "sgF0OHtyhCZE"
      },
      "execution_count": 8,
      "outputs": []
    },
    {
      "cell_type": "code",
      "source": [
        "cur.execute('select name from sqlite_master where type = \"table\"')\n",
        "iter_cur = cur.fetchall()\n",
        "for row in iter_cur:\n",
        "  print(row)"
      ],
      "metadata": {
        "id": "0hCWjn59hCXh",
        "colab": {
          "base_uri": "https://localhost:8080/"
        },
        "outputId": "0ca933c8-e18b-4f13-aa6a-537f5f5d32d9"
      },
      "execution_count": 10,
      "outputs": [
        {
          "output_type": "stream",
          "name": "stdout",
          "text": [
            "('data',)\n",
            "('goods',)\n"
          ]
        }
      ]
    },
    {
      "cell_type": "code",
      "source": [
        "cur.execute('select sql from sqlite_master where type = \"table\"')\n",
        "for row in cur.fetchall():\n",
        "  print(row)"
      ],
      "metadata": {
        "id": "QWxbuKy2hCVY",
        "colab": {
          "base_uri": "https://localhost:8080/"
        },
        "outputId": "7eb3a74f-8bfc-4fe0-8127-ccb47d5ffbe6"
      },
      "execution_count": 11,
      "outputs": [
        {
          "output_type": "stream",
          "name": "stdout",
          "text": [
            "('CREATE TABLE data(\\n  \"yy_mm_dd\" TEXT,\\n  \"num_month\" TEXT,\\n  \"store_id\" TEXT,\\n  \"goods_id\" TEXT,\\n  \"price\" TEXT,\\n  \"units_sold_day\" TEXT\\n)',)\n",
            "('CREATE TABLE goods(\\n  \"goods_name\" TEXT,\\n  \"goods_id\" TEXT,\\n  \"goods_genre_id\" TEXT\\n)',)\n"
          ]
        }
      ]
    },
    {
      "cell_type": "markdown",
      "source": [
        "goods_genre_id ごとに price の平均値を求めてください。"
      ],
      "metadata": {
        "id": "d3K-1sTwopkf"
      }
    },
    {
      "cell_type": "code",
      "source": [
        "cur.execute('SELECT G.goods_genre_id, AVG(D.price) AS avg_price FROM goods AS G INNER JOIN data AS D ON G.goods_id = D.goods_id GROUP BY G.goods_genre_id ORDER BY G.goods_genre_id')\n",
        "for row in cur.fetchall():\n",
        "  print(row)\n",
        "\n",
        "\n",
        "\n",
        "\n",
        "# SELECT G.goods_genre_id, AVG(D.price) AS avg_price \n",
        "# FROM goods AS G INNER JOIN data AS D ON G.goods_id = D.goods_id\n",
        "# GROUP BY G.goods_genre_id,\n"
      ],
      "metadata": {
        "colab": {
          "base_uri": "https://localhost:8080/"
        },
        "id": "R3GqFO01o76t",
        "outputId": "a904227c-b2f6-426e-ace3-242690b9a10c"
      },
      "execution_count": 31,
      "outputs": [
        {
          "output_type": "stream",
          "name": "stdout",
          "text": [
            "('12', 1381663.0)\n",
            "('15', 1197012.5)\n",
            "('16', 1315036.0)\n",
            "('19', 29577.0)\n",
            "('20', 154165.75)\n",
            "('21', 248176.0)\n",
            "('22', 52100.066666666666)\n",
            "('23', 167440.53846153847)\n",
            "('24', 164675.7037037037)\n",
            "('26', 71894.57142857143)\n",
            "('29', 63498.39473684211)\n",
            "('3', 168482.4)\n",
            "('30', 129826.33333333333)\n",
            "('31', 42573.60625)\n",
            "('32', 41988.6)\n",
            "('34', 120571.0)\n",
            "('36', 222425.0)\n",
            "('38', 42881.25)\n",
            "('39', 108544.72222222222)\n",
            "('4', 47476.5)\n",
            "('41', 27312.9203187251)\n",
            "('42', 96667.75)\n",
            "('44', 28968.470588235294)\n",
            "('46', 20584.5)\n",
            "('5', 129025.0)\n",
            "('50', 34330.857142857145)\n",
            "('56', 26939.964285714286)\n",
            "('58', 26590.416666666668)\n",
            "('59', 92398.5)\n",
            "('6', 39211.333333333336)\n",
            "('60', 45314.42857142857)\n",
            "('61', 171138.33333333334)\n",
            "('62', 79763.0)\n",
            "('63', 67526.75)\n",
            "('64', 44575.181818181816)\n",
            "('65', 99287.0625)\n",
            "('66', 30284.083333333332)\n",
            "('67', 13455.6)\n",
            "('68', 47454.0)\n",
            "('7', 158876.2)\n",
            "('70', 81622.5)\n",
            "('71', 29752.75)\n",
            "('73', 142723.16666666666)\n",
            "('74', 95758.0)\n",
            "('76', 162571.72222222222)\n",
            "('77', 149070.0)\n",
            "('78', 24784.666666666668)\n",
            "('80', 44943.0)\n",
            "('82', 6410.0)\n",
            "('83', 1911.0)\n",
            "('84', 8516.6)\n"
          ]
        }
      ]
    },
    {
      "cell_type": "code",
      "source": [],
      "metadata": {
        "id": "VkgHmkc3o70Q"
      },
      "execution_count": null,
      "outputs": []
    },
    {
      "cell_type": "code",
      "source": [
        "cur.execute(‘select * from <テーブル名>’)\n",
        "print(cur.fetchone()) # 1レコード目\n",
        "print(cur.fetchone()) # 2レコード目"
      ],
      "metadata": {
        "id": "ZLhjC8QQhCPo"
      },
      "execution_count": null,
      "outputs": []
    },
    {
      "cell_type": "code",
      "source": [
        "cur.execute(‘select <カラム名> from <テーブル名>’)\n",
        "with open(‘out.csv’, ‘w’, newline = ‘’) as csv_file:\n",
        "csv_writer = csv.writer(csv_file)\n",
        "csv_writer.writerow([i[0] for i in cur.description])\n",
        "csv_writer.writerows(cur)"
      ],
      "metadata": {
        "id": "_3ScFQNwhCL_"
      },
      "execution_count": null,
      "outputs": []
    },
    {
      "cell_type": "code",
      "source": [
        "cur.execute(‘select * from <テーブル名>’)\n",
        "with open(‘out.csv’, ‘w’, newline = ‘’) as csv_file:\n",
        "csv_writer = csv.writer(csv_file)\n",
        "csv_writer.writerow([i[0] for i in cur.description])\n",
        "csv_writer.writerows(cur)"
      ],
      "metadata": {
        "id": "MsRfsTCDhORx"
      },
      "execution_count": null,
      "outputs": []
    },
    {
      "cell_type": "code",
      "source": [],
      "metadata": {
        "id": "PH6k0YfU34IR"
      },
      "execution_count": null,
      "outputs": []
    },
    {
      "cell_type": "code",
      "source": [
        "cur.execute('SELECT G.goods_genre_id, AVG(D.price) AS avg_price FROM goods AS G INNER JOIN data AS D ON G.goods_id = D.goods_id GROUP BY G.goods_genre_id ORDER BY G.goods_genre_id')\n",
        "with open('out.csv', 'w', newline = '') as csv_file:\n",
        "  csv_writer = csv.writer(csv_file)\n",
        "  csv_writer.writerow([i[0] for i in cur.description])\n",
        "  csv_writer.writerows(cur)"
      ],
      "metadata": {
        "id": "XigCT-4J389K"
      },
      "execution_count": 32,
      "outputs": []
    },
    {
      "cell_type": "code",
      "source": [
        "conn.commit()"
      ],
      "metadata": {
        "id": "jakAOi98hOQJ"
      },
      "execution_count": 33,
      "outputs": []
    },
    {
      "cell_type": "code",
      "source": [
        "cur.close()"
      ],
      "metadata": {
        "id": "6fqF5v5mhOOK"
      },
      "execution_count": 34,
      "outputs": []
    },
    {
      "cell_type": "code",
      "source": [
        "conn. close()"
      ],
      "metadata": {
        "id": "aYZ1a-OJhOL7"
      },
      "execution_count": 35,
      "outputs": []
    }
  ],
  "metadata": {
    "colab": {
      "provenance": [],
      "include_colab_link": true
    },
    "interpreter": {
      "hash": "31f2aee4e71d21fbe5cf8b01ff0e069b9275f58929596ceb00d14d90e3e16cd6"
    },
    "kernelspec": {
      "display_name": "Python 3.8.10 64-bit",
      "language": "python",
      "name": "python3"
    },
    "language_info": {
      "codemirror_mode": {
        "name": "ipython",
        "version": 3
      },
      "file_extension": ".py",
      "mimetype": "text/x-python",
      "name": "python",
      "nbconvert_exporter": "python",
      "pygments_lexer": "ipython3",
      "version": "3.8.2"
    },
    "orig_nbformat": 4
  },
  "nbformat": 4,
  "nbformat_minor": 0
}