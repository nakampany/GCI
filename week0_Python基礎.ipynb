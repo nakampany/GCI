{
  "nbformat": 4,
  "nbformat_minor": 0,
  "metadata": {
    "colab": {
      "provenance": [],
      "collapsed_sections": []
    },
    "kernelspec": {
      "name": "python3",
      "display_name": "Python 3"
    },
    "language_info": {
      "name": "python"
    }
  },
  "cells": [
    {
      "cell_type": "code",
      "metadata": {
        "colab": {
          "base_uri": "https://localhost:8080/",
          "height": 36
        },
        "id": "9EdGGhOasuQs",
        "outputId": "4587e26d-7aa9-48f6-e07d-946023201379"
      },
      "source": [
        "# 以下のライブラリを使うので、あらかじめ読み込んでおいてください\n",
        "import numpy as np\n",
        "import numpy.random as random\n",
        "import scipy as sp\n",
        "import pandas as pd\n",
        "from pandas import Series, DataFrame\n",
        "\n",
        "# 可視化ライブラリ\n",
        "import matplotlib.pyplot as plt\n",
        "import matplotlib as mpl\n",
        "import seaborn as sns\n",
        "%matplotlib inline\n",
        "\n",
        "# 小数第３まで表示\n",
        "%precision 3"
      ],
      "execution_count": null,
      "outputs": [
        {
          "output_type": "execute_result",
          "data": {
            "text/plain": [
              "'%.3f'"
            ],
            "application/vnd.google.colaboratory.intrinsic+json": {
              "type": "string"
            }
          },
          "metadata": {},
          "execution_count": 1
        }
      ]
    },
    {
      "cell_type": "markdown",
      "metadata": {
        "id": "MYYAo4yaulnK"
      },
      "source": [
        "## 0.2 Python文法(基礎)"
      ]
    },
    {
      "cell_type": "markdown",
      "metadata": {
        "id": "XvMf9d8_umxr"
      },
      "source": [
        "### 0.2.8 練習問題"
      ]
    },
    {
      "cell_type": "markdown",
      "metadata": {
        "id": "gIrhBfUbu5tj"
      },
      "source": [
        "(1) 変数`x`に整数が格納されているとします。`x`が偶数ならば0、奇数ならば1を返すプログラムを作成してください。"
      ]
    },
    {
      "cell_type": "code",
      "metadata": {
        "id": "2LdgahK0tPtm"
      },
      "source": [
        "# 入力例\n",
        "x = 1"
      ],
      "execution_count": null,
      "outputs": []
    },
    {
      "cell_type": "code",
      "metadata": {
        "colab": {
          "base_uri": "https://localhost:8080/"
        },
        "id": "uMy0IkGdtyVl",
        "outputId": "6d3046de-9394-44d8-f787-c5b3490be1e2"
      },
      "source": [
        "print(x%2)"
      ],
      "execution_count": null,
      "outputs": [
        {
          "output_type": "stream",
          "name": "stdout",
          "text": [
            "1\n"
          ]
        }
      ]
    },
    {
      "cell_type": "markdown",
      "metadata": {
        "id": "dcTKOEWCu9iJ"
      },
      "source": [
        "(2) 要素がすべて整数値であって、長さが1以上のリストが変数xに格納されているとします。xの要素の中で最も大きい要素を返すプログラムを作成してください。ただし、max関数などは使用せず、ループで実現してください。"
      ]
    },
    {
      "cell_type": "code",
      "metadata": {
        "id": "XRxhnIrOvCy6"
      },
      "source": [
        "# 入力例\n",
        "x = [1, 5, 4, 3]"
      ],
      "execution_count": null,
      "outputs": []
    },
    {
      "cell_type": "code",
      "metadata": {
        "colab": {
          "base_uri": "https://localhost:8080/"
        },
        "id": "OzclAG0PvW8T",
        "outputId": "b51ba397-0134-4f4e-89f1-4ee25679b9b2"
      },
      "source": [
        "max = x[0]\n",
        "for i in x:\n",
        "    if max < i:\n",
        "        max = i\n",
        "print(max)"
      ],
      "execution_count": null,
      "outputs": [
        {
          "output_type": "stream",
          "name": "stdout",
          "text": [
            "5\n"
          ]
        }
      ]
    },
    {
      "cell_type": "markdown",
      "metadata": {
        "id": "5x-F_MuUrA71"
      },
      "source": [
        "(3) 長さが1以上の文字列を引数`x`とし、`x`の最後の1文字を返す関数`f`を定義してください。"
      ]
    },
    {
      "cell_type": "code",
      "metadata": {
        "id": "8MMtKI6BxBd-"
      },
      "source": [
        "# 入力例\n",
        "x = 'python'"
      ],
      "execution_count": null,
      "outputs": []
    },
    {
      "cell_type": "code",
      "metadata": {
        "colab": {
          "base_uri": "https://localhost:8080/",
          "height": 36
        },
        "id": "y1sMF1gOyKDG",
        "outputId": "a1d79f3f-74da-4cd1-c21f-bbcde11e6ff5"
      },
      "source": [
        "def f(x):\n",
        "    length = len(x)\n",
        "    return x[length - 1]\n",
        "\n",
        "f(x)"
      ],
      "execution_count": null,
      "outputs": [
        {
          "output_type": "execute_result",
          "data": {
            "text/plain": [
              "'n'"
            ],
            "application/vnd.google.colaboratory.intrinsic+json": {
              "type": "string"
            }
          },
          "metadata": {},
          "execution_count": 11
        }
      ]
    },
    {
      "cell_type": "markdown",
      "metadata": {
        "id": "X3QZvPIorA71"
      },
      "source": [
        "(4) 辞書を引数`x`とし、`x`に格納されているキーの数を返す関数`f`を定義してください。"
      ]
    },
    {
      "cell_type": "code",
      "metadata": {
        "id": "lofLzjq7ywER"
      },
      "source": [
        "# 入力例\n",
        "x = {\"a\": 1, \"b\": 2, \"c\": 3, 'd':4, 'e':5}"
      ],
      "execution_count": null,
      "outputs": []
    },
    {
      "cell_type": "code",
      "metadata": {
        "colab": {
          "base_uri": "https://localhost:8080/"
        },
        "id": "tvJkFZ7czaQ2",
        "outputId": "85f23211-550e-48ed-c7d6-ca11ba207627"
      },
      "source": [
        "def f(x):\n",
        "    num_key = x.keys()\n",
        "    return len(num_key)\n",
        "\n",
        "f(x)"
      ],
      "execution_count": null,
      "outputs": [
        {
          "output_type": "execute_result",
          "data": {
            "text/plain": [
              "5"
            ]
          },
          "metadata": {},
          "execution_count": 13
        }
      ]
    },
    {
      "cell_type": "markdown",
      "metadata": {
        "id": "BpIsk38qrA72"
      },
      "source": [
        "(5) リストを引数`x`とし、`x`の要素を逆順に並べたリストを返す関数`f`を定義してください。ただし、`reversed`関数などは使用せず、ループやリストのスライスで実現してください。"
      ]
    },
    {
      "cell_type": "code",
      "metadata": {
        "id": "rBt1DRLy0lVJ"
      },
      "source": [
        "# 入力例\n",
        "x = [3, 9, 7, 1, 0]"
      ],
      "execution_count": null,
      "outputs": []
    },
    {
      "cell_type": "code",
      "metadata": {
        "id": "76Sb5A6U3SUP",
        "colab": {
          "base_uri": "https://localhost:8080/"
        },
        "outputId": "19af9612-ed77-46a3-8904-fd6577e5d9fc"
      },
      "source": [
        "def f(x):\n",
        "    reverse = []\n",
        "    length = len(x)\n",
        "    for i in range(1,length + 1):\n",
        "        reverse.append(x[-i])\n",
        "    return reverse\n",
        "\n",
        "f(x)"
      ],
      "execution_count": null,
      "outputs": [
        {
          "output_type": "execute_result",
          "data": {
            "text/plain": [
              "[0, 1, 7, 9, 3]"
            ]
          },
          "metadata": {},
          "execution_count": 15
        }
      ]
    },
    {
      "cell_type": "markdown",
      "metadata": {
        "id": "tT8Wc7vgrA8C"
      },
      "source": [
        "## 0.4 総合問題"
      ]
    },
    {
      "cell_type": "code",
      "metadata": {
        "id": "x8z9Z-nZ4xYw"
      },
      "source": [
        "# 入力例\n",
        "n = 239"
      ],
      "execution_count": null,
      "outputs": []
    },
    {
      "cell_type": "markdown",
      "metadata": {
        "id": "9qhRGiorrA8C"
      },
      "source": [
        "(1) 与えられた自然数`n`に対して、それが素数であれば`True`、合成数であれば`False`を返す関数`is_prime`を定義してください。"
      ]
    },
    {
      "cell_type": "code",
      "metadata": {
        "colab": {
          "base_uri": "https://localhost:8080/"
        },
        "id": "isItyexW4cpI",
        "outputId": "ef0ee4cd-3477-4c6c-d5e8-c2d55bafd2a9"
      },
      "source": [
        "def is_prime(n):\n",
        "    if n == 1: return False\n",
        "    for i in range(2,int(n ** 0.5) + 1):\n",
        "        if n%i == 0:\n",
        "            return False\n",
        "    return True\n",
        "\n",
        "is_prime(n)\n",
        "\n",
        "# ｎ＝36　　　int(n**0.5)+1\n",
        "# 積が36になるような組み合わせは (1,36)、(2,18) 、(3,12) 、(4,9)、(6,6)となります。\n",
        "# このことから、素数ではない場合、2からnの平方根までの間に必ず約数が存在するので、\n",
        "# その間に約数がなければ素数と判断できるためです。またint関数を使うのは、\n",
        "# 平方根が整数にならないとfor文がエラーになるので、切り捨てて整数にそろえるためです。"
      ],
      "execution_count": null,
      "outputs": [
        {
          "output_type": "execute_result",
          "data": {
            "text/plain": [
              "True"
            ]
          },
          "metadata": {},
          "execution_count": 17
        }
      ]
    },
    {
      "cell_type": "markdown",
      "metadata": {
        "id": "XD1gpZ9KrA8D"
      },
      "source": [
        "(2) 与えられた自然数`n`以下の素数をリストとして返す関数`primes`を定義してください。(1)を利用しても構いません。"
      ]
    },
    {
      "cell_type": "code",
      "metadata": {
        "colab": {
          "base_uri": "https://localhost:8080/"
        },
        "id": "bmswo0B-A1kJ",
        "outputId": "2a63ad02-82f3-4259-b251-064b0ad3be7c"
      },
      "source": [
        "def primes(n):\n",
        "    n_list = []\n",
        "    for i in range(2, n + 1):\n",
        "        if is_prime(i) == True:\n",
        "            n_list.append(i)\n",
        "    return n_list\n",
        "    \n",
        "primes(n)\n"
      ],
      "execution_count": null,
      "outputs": [
        {
          "output_type": "execute_result",
          "data": {
            "text/plain": [
              "[2,\n",
              " 3,\n",
              " 5,\n",
              " 7,\n",
              " 11,\n",
              " 13,\n",
              " 17,\n",
              " 19,\n",
              " 23,\n",
              " 29,\n",
              " 31,\n",
              " 37,\n",
              " 41,\n",
              " 43,\n",
              " 47,\n",
              " 53,\n",
              " 59,\n",
              " 61,\n",
              " 67,\n",
              " 71,\n",
              " 73,\n",
              " 79,\n",
              " 83,\n",
              " 89,\n",
              " 97,\n",
              " 101,\n",
              " 103,\n",
              " 107,\n",
              " 109,\n",
              " 113,\n",
              " 127,\n",
              " 131,\n",
              " 137,\n",
              " 139,\n",
              " 149,\n",
              " 151,\n",
              " 157,\n",
              " 163,\n",
              " 167,\n",
              " 173,\n",
              " 179,\n",
              " 181,\n",
              " 191,\n",
              " 193,\n",
              " 197,\n",
              " 199,\n",
              " 211,\n",
              " 223,\n",
              " 227,\n",
              " 229,\n",
              " 233,\n",
              " 239]"
            ]
          },
          "metadata": {},
          "execution_count": 18
        }
      ]
    }
  ]
}