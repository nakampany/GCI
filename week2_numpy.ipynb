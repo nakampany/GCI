{
  "nbformat": 4,
  "nbformat_minor": 0,
  "metadata": {
    "colab": {
      "provenance": [],
      "collapsed_sections": [],
      "include_colab_link": true
    },
    "kernelspec": {
      "name": "python3",
      "display_name": "Python 3"
    }
  },
  "cells": [
    {
      "cell_type": "markdown",
      "metadata": {
        "id": "view-in-github",
        "colab_type": "text"
      },
      "source": [
        "<a href=\"https://colab.research.google.com/github/nakampany/GCI2022/blob/main/week2_numpy.ipynb\" target=\"_parent\"><img src=\"https://colab.research.google.com/assets/colab-badge.svg\" alt=\"Open In Colab\"/></a>"
      ]
    },
    {
      "cell_type": "markdown",
      "metadata": {
        "id": "93cl9JWr_5nm"
      },
      "source": [
        "## 問題文\n",
        "任意の$n\\times n$正方行列$A$をインプットデータとして、その行列式を返り値とする関数を作成してください。\n",
        "\n",
        "例えば、行列\n",
        "$$\n",
        "A=\n",
        "\\begin{pmatrix}\n",
        "  3 & 2 & 1 \\\\\n",
        "  5 & 3 & 7 \\\\\n",
        "  1 & 1 & 1\n",
        "\\end{pmatrix}$$\n",
        "は、次のようにnumpyの配列として扱います。\n",
        "\n",
        "```python\n",
        "A = np.array([[3,2,1],[5,3,7],[1,1,1]])\n",
        "```\n",
        "\n",
        "提出するときは、以下の点に注意してください。  \n",
        ">- 以下の関数`homework`の`!!WRITE ME!!`に処理を書いてください。(**「`!!WRITE ME!!`」は消して、記入してください。**)\n",
        ">- 実際の提出は記述された`homework`関数全てになり、**提出はOmnicampus内の宿題の欄から今週の課題を選択後、提出内容に関数を貼り付けてから[Pythonコード提出]を押してください。**\n",
        ">- 返り値は数値型です。\n",
        ">- 関数は1つにまとめてください。"
      ]
    },
    {
      "cell_type": "code",
      "metadata": {
        "id": "thHL7HyXBXvS"
      },
      "source": [
        "# common\n",
        "import numpy as np\n",
        "import numpy.linalg as linalg\n",
        "\n",
        "# working place. everything\n",
        "def homework(A):\n",
        "  ｍｙ_result = np.linalg.det(A)\n",
        "\n",
        "  return my_result"
      ],
      "execution_count": null,
      "outputs": []
    },
    {
      "cell_type": "code",
      "metadata": {
        "id": "D-HiU9M-mbQT",
        "outputId": "ba436ebe-d094-4db9-aa64-59120d298c51",
        "colab": {
          "base_uri": "https://localhost:8080/"
        }
      },
      "source": [
        "A = np.array([[3,2,1],[5,3,7],[1,1,1]])\n",
        "\n",
        "homework(A)"
      ],
      "execution_count": null,
      "outputs": [
        {
          "output_type": "execute_result",
          "data": {
            "text/plain": [
              "-6.0"
            ]
          },
          "metadata": {},
          "execution_count": 4
        }
      ]
    },
    {
      "cell_type": "markdown",
      "source": [
        "余因子行列"
      ],
      "metadata": {
        "id": "nZnCgGg6iEb8"
      }
    },
    {
      "cell_type": "code",
      "source": [
        "# m_x = np.array([[3,2,1],[5,3,7],[1,1,1]])\n",
        "     \n",
        "# def minor_submatrix(m, i, j):\n",
        "#    mtrx = []\n",
        "#    for row in range(len(m)):\n",
        "#        if row != i:\n",
        "#            mtrx_rows = []\n",
        "#            for col in range(len(m[0])):\n",
        "#                if col != j:\n",
        "#                    mtrx_rows.append(m[row][col])\n",
        "#            mtrx.append(mtrx_rows)\n",
        "#    return mtrx\n",
        "\n",
        "# minor_submatrix(m_x,1,1)"
      ],
      "metadata": {
        "colab": {
          "base_uri": "https://localhost:8080/"
        },
        "id": "I90Kxe4kjZPw",
        "outputId": "92970211-de29-4ceb-aa8c-66286dd1ec45"
      },
      "execution_count": null,
      "outputs": [
        {
          "output_type": "execute_result",
          "data": {
            "text/plain": [
              "[[3, 1], [1, 1]]"
            ]
          },
          "metadata": {},
          "execution_count": 12
        }
      ]
    },
    {
      "cell_type": "code",
      "source": [
        "# def det_r(m):\n",
        "#    dim=len(m)\n",
        "#    det=0\n",
        "#    if dim==1:\n",
        "#        return m[0][0]\n",
        "#    else:\n",
        "#        for i in range(dim):\n",
        "#            det+=(-1)**i*m[0][i]* det_r(minor_submatrix(m,0,i))\n",
        "#    return det\n",
        "\n",
        "# det_r(m_x)"
      ],
      "metadata": {
        "colab": {
          "base_uri": "https://localhost:8080/"
        },
        "id": "vZ4SqCGujZJ_",
        "outputId": "e47e629f-2e78-4cf8-b89e-8d1511065d07"
      },
      "execution_count": null,
      "outputs": [
        {
          "output_type": "execute_result",
          "data": {
            "text/plain": [
              "-6"
            ]
          },
          "metadata": {},
          "execution_count": 13
        }
      ]
    },
    {
      "cell_type": "code",
      "source": [
        "# import sympy\n",
        "\n",
        "# m_x = np.array([[3,2,1],[5,3,7],[1,1,1]])\n",
        "\n",
        "# sm_x=sympy.Matrix(m_x)\n",
        "# sm_x.det()"
      ],
      "metadata": {
        "colab": {
          "base_uri": "https://localhost:8080/",
          "height": 37
        },
        "id": "CNcKmdOXjZG2",
        "outputId": "6a816521-6f47-4d58-9c27-b499d40fc8c9"
      },
      "execution_count": null,
      "outputs": [
        {
          "output_type": "execute_result",
          "data": {
            "text/plain": [
              "-6"
            ],
            "text/latex": "$\\displaystyle -6$"
          },
          "metadata": {},
          "execution_count": 14
        }
      ]
    }
  ]
}